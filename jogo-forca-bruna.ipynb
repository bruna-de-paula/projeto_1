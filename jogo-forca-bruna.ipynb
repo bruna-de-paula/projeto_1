{
 "cells": [
  {
   "cell_type": "markdown",
   "metadata": {},
   "source": [
    "# Inicio do codigo"
   ]
  },
  {
   "cell_type": "code",
   "execution_count": null,
   "metadata": {},
   "outputs": [],
   "source": [
    "#Tradicional jogo da forca.\n",
    "#O jogador tem 10 chances para acertar a palavra secreta esolhida aleatóriamente dentre as palavras pré definidas."
   ]
  },
  {
   "cell_type": "code",
   "execution_count": 90,
   "metadata": {},
   "outputs": [],
   "source": [
    "#importar bibliotecas numpy (cálculos, arrays, funcções, operações) / random (números inteiros aleatórios)\n",
    "import numpy as np\n",
    "import random\n",
    "from time import sleep"
   ]
  },
  {
   "cell_type": "code",
   "execution_count": 91,
   "metadata": {},
   "outputs": [],
   "source": [
    "#mensagens de introdução ao jogo\n",
    "def introducao():\n",
    "    print('------------------BEM VINDO AO JOGO DA FORCA--------------------')\n",
    "    sleep(2)\n",
    "    print (\"\\n***ADIVINHE MINHA PALAVRA INSERINDO LETRA A LETRA***\\n\")\n",
    "    sleep(2)\n",
    "    print(\"\\n====>ESPERO QUE SE ENFORQUE \\U0001F608\\n\")\n",
    "    sleep(2)\n",
    "    print(\"\\n====>VOCÊ TERÁ 10 CHANCES PARA ACERTAR<=====\\n\")"
   ]
  },
  {
   "cell_type": "code",
   "execution_count": 92,
   "metadata": {},
   "outputs": [],
   "source": [
    "#sortear a palavra da lista de palavras (linha 72) \n",
    "def sortear_palavra(lista_de_palavras):\n",
    "    palavra = random.choice(lista_de_palavras)\n",
    "    lista_letras = [letra for letra in palavra]\n",
    "    lista_tracinho = ['_' for x in range(len(lista_letras))]\n",
    "    return (lista_letras, lista_tracinho)"
   ]
  },
  {
   "cell_type": "code",
   "execution_count": 93,
   "metadata": {},
   "outputs": [],
   "source": [
    "#perguntar ao jogador qual letra deseja jogar e padronizar em minúscula \n",
    "def escolher_letras():\n",
    "    letra_escolhida = input('Escolha uma letra: ')\n",
    "    letra_escolhida = letra_escolhida.lower()\n",
    "    return letra_escolhida"
   ]
  },
  {
   "cell_type": "code",
   "execution_count": 94,
   "metadata": {},
   "outputs": [],
   "source": [
    "#retorna o índice correspondente a letra na palavra\n",
    "def retornar_index(letra_escolhida, palavra):   \n",
    "    index_palavra = [i for i,val in enumerate(palavra) if val==letra_escolhida]\n",
    "    return index_palavra"
   ]
  },
  {
   "cell_type": "code",
   "execution_count": 95,
   "metadata": {},
   "outputs": [
    {
     "ename": "SyntaxError",
     "evalue": "invalid syntax (<ipython-input-95-40686343168d>, line 1)",
     "output_type": "error",
     "traceback": [
      "\u001b[1;36m  File \u001b[1;32m\"<ipython-input-95-40686343168d>\"\u001b[1;36m, line \u001b[1;32m1\u001b[0m\n\u001b[1;33m    def jogar_novamente()\u001b[0m\n\u001b[1;37m                         ^\u001b[0m\n\u001b[1;31mSyntaxError\u001b[0m\u001b[1;31m:\u001b[0m invalid syntax\n"
     ]
    }
   ],
   "source": [
    "def jogar_novamente()\n",
    "# criar o código\n",
    "    \n",
    "    "
   ]
  },
  {
   "cell_type": "code",
   "execution_count": 96,
   "metadata": {},
   "outputs": [],
   "source": [
    "#lista das palavras do jogo\n",
    "lista_de_palavras = ['alegria', 'python', 'cafeina']"
   ]
  },
  {
   "cell_type": "markdown",
   "metadata": {},
   "source": [
    "# Jogo"
   ]
  },
  {
   "cell_type": "code",
   "execution_count": null,
   "metadata": {
    "scrolled": false
   },
   "outputs": [
    {
     "name": "stdout",
     "output_type": "stream",
     "text": [
      "------------------BEM VINDO AO JOGO DA FORCA--------------------\n",
      "\n",
      "***ADIVINHE MINHA PALAVRA INSERINDO LETRA A LETRA***\n",
      "\n",
      "\n",
      "====>ESPERO QUE SE ENFORQUE 😈\n",
      "\n",
      "\n",
      "====>VOCÊ TERÁ 10 CHANCES PARA ACERTAR<=====\n",
      "\n",
      "Tentativa:  0\n",
      "['_', '_', '_', '_', '_', '_']\n"
     ]
    }
   ],
   "source": [
    "introducao()\n",
    "\n",
    "forca = False\n",
    "acerto = False\n",
    "tentativa = 0\n",
    "\n",
    "tuple_palavra = sortear_palavra(lista_de_palavras)\n",
    "palavra = tuple_palavra[0]\n",
    "palavra_secreta = tuple_palavra[1]\n",
    "lista_letras_escolhidas = []\n",
    "\n",
    "while (not forca and not acerto):\n",
    "    \n",
    "    print('Tentativa: ', tentativa)\n",
    "\n",
    "    print(palavra_secreta)\n",
    "    \n",
    "    \n",
    "    letra_escolhida = escolher_letras()\n",
    "    #mostra se a letra escolhida já está na lista de letras escolhidas \n",
    "    while letra_escolhida in lista_letras_escolhidas:\n",
    "        print('Essa letra já foi escolhida. Vejas as letras que você escolheu:', lista_letras_escolhidas)\n",
    "        letra_escolhida = escolher_letras()\n",
    "\n",
    "    lista_letras_escolhidas.append(letra_escolhida)\n",
    "    #adiciona a letra escolhida a lista de letras _escolhidas\n",
    "    \n",
    "    \n",
    "    index_palavra = retornar_index(letra_escolhida, palavra)\n",
    "    #retorna a posição da letra na palavra\n",
    "    \n",
    "    \n",
    "    \n",
    "    if len(index_palavra) > 1:\n",
    "        for x in index_palavra:\n",
    "            palavra_secreta[x] = letra_escolhida\n",
    "        \n",
    "    elif len(index_palavra) == 1:\n",
    "        palavra_secreta[index_palavra[0]] = letra_escolhida   \n",
    "\n",
    "    else:\n",
    "        print(f'Você errou, a letra {letra_escolhida} não aparece na palavra')\n",
    "        tentativa += 1\n",
    "\n",
    "    if '_' not in palavra_secreta:\n",
    "        acerto = True\n",
    "        print(f'***HUHU VOCÊ GANHOU, PARABÉNS*** A PALAVRA SECRETA É: {tuple_palavra}')\n",
    "        print(\"------FIM DO JOGO------\")\n",
    "    \n",
    "    \n",
    "    \n",
    "    \n",
    "    forca = tentativa == 10\n",
    "    if forca == True:\n",
    "        print(f'FIM DO JOGO, VOCÊ PERDEU! ====> A palavra secreta era: {tuple_palavra}')\n",
    "        \n",
    "        \n",
    "        \n",
    "        \n",
    "        \n",
    "        \n",
    "        \n",
    "        \n",
    "        \n",
    "        \n",
    "        \n",
    "   \n",
    "\n",
    " "
   ]
  },
  {
   "cell_type": "code",
   "execution_count": null,
   "metadata": {},
   "outputs": [],
   "source": [
    "\n"
   ]
  }
 ],
 "metadata": {
  "kernelspec": {
   "display_name": "Python 3",
   "language": "python",
   "name": "python3"
  },
  "toc": {
   "base_numbering": 1,
   "nav_menu": {},
   "number_sections": true,
   "sideBar": true,
   "skip_h1_title": false,
   "title_cell": "Table of Contents",
   "title_sidebar": "Contents",
   "toc_cell": false,
   "toc_position": {},
   "toc_section_display": true,
   "toc_window_display": false
  }
 },
 "nbformat": 4,
 "nbformat_minor": 4
}
